{
 "cells": [
  {
   "cell_type": "markdown",
   "metadata": {},
   "source": [
    "# Importando librerias"
   ]
  },
  {
   "cell_type": "code",
   "execution_count": 1,
   "metadata": {},
   "outputs": [],
   "source": [
    "import pandas as pd\n",
    "import re\n",
    "import unicodedata\n",
    "from nltk.corpus import stopwords\n",
    "import nltk\n",
    "import time\n",
    "#import swifter\n",
    "import numpy as np"
   ]
  },
  {
   "cell_type": "markdown",
   "metadata": {},
   "source": [
    "\n",
    "# Laod dataset - select `df_sm`"
   ]
  },
  {
   "cell_type": "code",
   "execution_count": 2,
   "metadata": {},
   "outputs": [],
   "source": [
    "df_sm = pd.read_csv('../data/dev/df_sm_tweets_26072020.csv',encoding='utf8')"
   ]
  },
  {
   "cell_type": "code",
   "execution_count": 3,
   "metadata": {},
   "outputs": [
    {
     "data": {
      "text/plain": [
       "sentiment\n",
       "NEGATIVE      9479\n",
       "NEUTRAL     109866\n",
       "POSITIVE     10976\n",
       "dtype: int64"
      ]
     },
     "execution_count": 3,
     "metadata": {},
     "output_type": "execute_result"
    }
   ],
   "source": [
    "df_sm.groupby(['sentiment']).size()"
   ]
  },
  {
   "cell_type": "markdown",
   "metadata": {},
   "source": [
    "# Remove `links`"
   ]
  },
  {
   "cell_type": "code",
   "execution_count": 4,
   "metadata": {},
   "outputs": [],
   "source": [
    "def remove_links(text):\n",
    "    text = re.sub(r'www\\\\S+',r'',text,flags=re.MULTILINE)\n",
    "    text = re.sub(r'https\\S+',r'',text,flags=re.MULTILINE)\n",
    "    \n",
    "    return(text)\n"
   ]
  },
  {
   "cell_type": "markdown",
   "metadata": {},
   "source": [
    "## Remove `hashtags` and `mentions of person` or `page`"
   ]
  },
  {
   "cell_type": "code",
   "execution_count": 5,
   "metadata": {},
   "outputs": [],
   "source": [
    "def remove_hashtags_mentions(text):\n",
    "    #return(' '.join(re.sub(\"(@|#)(\\w+)|[_]+\\w+\",\"\",text,flags=re.MULTILINE).split()))\n",
    "    return(' '.join(re.sub(\"(@|#|&)(\\w+)|[_]+\\w+\",\"\",text,flags=re.MULTILINE).split()))\n",
    "    "
   ]
  },
  {
   "cell_type": "markdown",
   "metadata": {},
   "source": [
    "# Replace `emoticons`"
   ]
  },
  {
   "cell_type": "code",
   "execution_count": 6,
   "metadata": {},
   "outputs": [],
   "source": [
    "SMILEYS = {\":‑(\":\"triste\", \":‑)\":\"feliz\"}\n",
    "## por ahora solo los elimanaremos"
   ]
  },
  {
   "cell_type": "markdown",
   "metadata": {},
   "source": [
    "# Convert `unicode` to `Ascii`"
   ]
  },
  {
   "cell_type": "code",
   "execution_count": 7,
   "metadata": {},
   "outputs": [],
   "source": [
    "def unicodeToAscii(s):\n",
    "    return ''.join(\n",
    "        c for c in unicodedata.normalize('NFD',s)\n",
    "        if unicodedata.category(c)!='Mn'\n",
    "    )"
   ]
  },
  {
   "cell_type": "code",
   "execution_count": 8,
   "metadata": {},
   "outputs": [],
   "source": [
    "\n",
    "#df_sm['tweet_text'].apply(lambda x: unicodeToAscii(x))"
   ]
  },
  {
   "cell_type": "markdown",
   "metadata": {},
   "source": [
    "# Preprocesamiento - `stopwords` con _nltk_"
   ]
  },
  {
   "cell_type": "code",
   "execution_count": 9,
   "metadata": {},
   "outputs": [],
   "source": [
    "#'mas','si','mio','mia','mios','mias', estas\n",
    "stopwords.words('spanish')\n",
    "exclude_stopword = ['si',\n",
    "'sí',\n",
    "'no',\n",
    "'más',\n",
    "'pero',\n",
    "'ya',\n",
    "'porque',\n",
    "'muy',\n",
    "'sin',\n",
    "'tambien',\n",
    "'todo',\n",
    "'nos',\n",
    "'ni',\n",
    "'contra',\n",
    "'tanto',\n",
    "'nada',\n",
    "'poco',\n",
    "'fue',\n",
    "'fui',\n",
    "'fuiste',\n",
    "'fuimos',\n",
    "'sentida',\n",
    "'sentido']\n"
   ]
  },
  {
   "cell_type": "code",
   "execution_count": 10,
   "metadata": {},
   "outputs": [
    {
     "name": "stdout",
     "output_type": "stream",
     "text": [
      "Num. exclude stopwords:  23\n",
      "Num. stopwords 313\n"
     ]
    }
   ],
   "source": [
    "#nlk_stopword\n",
    "nltk_stopwords = stopwords.words('spanish')\n",
    "print(\"Num. exclude stopwords: \",len(exclude_stopword))\n",
    "print(\"Num. stopwords\",len(nltk_stopwords))\n"
   ]
  },
  {
   "cell_type": "code",
   "execution_count": 11,
   "metadata": {},
   "outputs": [],
   "source": [
    "nltk_sw = [e for e in nltk_stopwords if (e not in exclude_stopword)]"
   ]
  },
  {
   "cell_type": "code",
   "execution_count": 12,
   "metadata": {},
   "outputs": [
    {
     "data": {
      "text/plain": [
       "['de', 'la', 'que', 'el', 'en', 'y', 'a', 'los', 'del', 'se']"
      ]
     },
     "execution_count": 12,
     "metadata": {},
     "output_type": "execute_result"
    }
   ],
   "source": [
    "nltk_sw[:10]"
   ]
  },
  {
   "cell_type": "markdown",
   "metadata": {},
   "source": [
    "## Remove stopwords"
   ]
  },
  {
   "cell_type": "code",
   "execution_count": 13,
   "metadata": {},
   "outputs": [],
   "source": [
    "def remove_stopword(text,list_stopwords):\n",
    "    tokens = nltk.tokenize.word_tokenize(text)\n",
    "    tokens = [token for token in tokens if not token in nltk_sw]\n",
    "    return ' '.join(tokens)"
   ]
  },
  {
   "cell_type": "code",
   "execution_count": 14,
   "metadata": {},
   "outputs": [
    {
     "data": {
      "text/plain": [
       "'hola amigos , buenos dias'"
      ]
     },
     "execution_count": 14,
     "metadata": {},
     "output_type": "execute_result"
    }
   ],
   "source": [
    "\n",
    "remove_stopword('hola amigos, tenga su buenos dias',nltk_sw)"
   ]
  },
  {
   "cell_type": "markdown",
   "metadata": {},
   "source": [
    "# Remove `punctuations`"
   ]
  },
  {
   "cell_type": "code",
   "execution_count": 15,
   "metadata": {},
   "outputs": [],
   "source": [
    "def remove_punctuations(text):\n",
    "    return ( ' '.join(re.sub(\"[\\.\\,\\:\\;\\-\\=\\_\\!\\?]\",' ',text,flags=re.MULTILINE).split()) )"
   ]
  },
  {
   "cell_type": "code",
   "execution_count": 16,
   "metadata": {},
   "outputs": [
    {
     "data": {
      "text/plain": [
       "'hola es esdrújula'"
      ]
     },
     "execution_count": 16,
     "metadata": {},
     "output_type": "execute_result"
    }
   ],
   "source": [
    "remove_punctuations('Hola es ESdrújula!'.lower())"
   ]
  },
  {
   "cell_type": "markdown",
   "metadata": {},
   "source": [
    "# Remove - onomatopeyas"
   ]
  },
  {
   "cell_type": "code",
   "execution_count": 65,
   "metadata": {},
   "outputs": [],
   "source": [
    "def remove_closures(text):\n",
    "    tokens = str(text).lower().split(' ')\n",
    "    tokens = [w for w in tokens if not re.search('^[ja]+$', w)]\n",
    "    tokens = [w for w in tokens if not re.search('^[ji]+$', w)]\n",
    "    tokens = [w for w in tokens if not re.search('^[je]+$', w)]\n",
    "    tokens = [w for w in tokens if not re.search('^[ha]+$', w)]\n",
    "    tokens = [w for w in tokens if not re.search('^[mo]+$', w)]\n",
    "    #tokens = [w for w in tokens if not re.search('^[jka]+$', w)]\n",
    "    return(' '.join(tokens))"
   ]
  },
  {
   "cell_type": "code",
   "execution_count": 66,
   "metadata": {},
   "outputs": [
    {
     "data": {
      "text/plain": [
       "\"['@oliver__cortez', '@chelseafc', 'jajajwjqjajq', 'le', 'crees', 'una', 'palabra', 'al', 'as', '???']\""
      ]
     },
     "execution_count": 66,
     "metadata": {},
     "output_type": "execute_result"
    }
   ],
   "source": [
    "remove_closures('@Oliver__Cortez @ChelseaFC JAJAJWJQJAJQ LE CREES UNA PALABRA AL AS ???'.split(' '))"
   ]
  },
  {
   "cell_type": "code",
   "execution_count": 48,
   "metadata": {},
   "outputs": [
    {
     "data": {
      "text/plain": [
       "'jajajak'"
      ]
     },
     "execution_count": 48,
     "metadata": {},
     "output_type": "execute_result"
    }
   ],
   "source": [
    "remove_closures(' '.join(['jejeje','jajajak','jajaja','jaa','aja']))"
   ]
  },
  {
   "cell_type": "markdown",
   "metadata": {},
   "source": [
    "# convert - `stemming`"
   ]
  },
  {
   "cell_type": "code",
   "execution_count": 49,
   "metadata": {},
   "outputs": [],
   "source": [
    "snowball_stemmer = nltk.stem.SnowballStemmer('spanish')"
   ]
  },
  {
   "cell_type": "code",
   "execution_count": 50,
   "metadata": {},
   "outputs": [],
   "source": [
    "def convert_stemm(text,snowball_stemmer=nltk.stem.SnowballStemmer('spanish')):\n",
    "    tokens = nltk.tokenize.word_tokenize(text)\n",
    "    tokens = [snowball_stemmer.stem(token) for token in tokens]   \n",
    "    \n",
    "    return(' '.join(tokens))\n",
    "    \n"
   ]
  },
  {
   "cell_type": "code",
   "execution_count": 51,
   "metadata": {},
   "outputs": [],
   "source": [
    "def remove_single_letters(text, min_len=1):\n",
    "    tokens = nltk.tokenize.word_tokenize(text)\n",
    "    tokens = [w for w in tokens if len(w)>min_len]\n",
    "    return(' '.join(tokens))"
   ]
  },
  {
   "cell_type": "code",
   "execution_count": 52,
   "metadata": {},
   "outputs": [],
   "source": [
    "def remove_long_letters(text, max_len=16):\n",
    "    tokens = nltk.tokenize.word_tokenize(text)\n",
    "    tokens = [w for w in tokens if len(w)<max_len]\n",
    "    return(' '.join(tokens))"
   ]
  },
  {
   "cell_type": "code",
   "execution_count": 53,
   "metadata": {},
   "outputs": [
    {
     "data": {
      "text/plain": [
       "'hola amigos a m s donde es a los'"
      ]
     },
     "execution_count": 53,
     "metadata": {},
     "output_type": "execute_result"
    }
   ],
   "source": [
    "remove_long_letters('hola amigos a m s donde es a los')"
   ]
  },
  {
   "cell_type": "markdown",
   "metadata": {},
   "source": [
    "# Normalization - `Pre Procesamiento`"
   ]
  },
  {
   "cell_type": "code",
   "execution_count": 54,
   "metadata": {},
   "outputs": [],
   "source": [
    "def clean_string(s):\n",
    "    s = remove_links(s)\n",
    "    s = remove_hashtags_mentions(s)\n",
    "    \n",
    "    s = unicodeToAscii(str(s).lower().strip())\n",
    "    #s = remove_closures(s)\n",
    "    \n",
    "    s = remove_punctuations(s)\n",
    "    \n",
    "    s = re.sub(r\"[^a-zA-Z.!?]+\", r\" \", s) ##----sin tildes\n",
    "    s = remove_stopword(s,nltk_sw)\n",
    "    s = convert_stemm(s)\n",
    "    \n",
    "    s = remove_closures(s)\n",
    "    \n",
    "    s = remove_single_letters(s) \n",
    "    s = remove_long_letters(s)\n",
    "    s = re.sub(r'(.)\\1+', r'\\1\\1', s) ## --- eliminina repiriticones de 3 o mas veces\n",
    "    s = re.sub(r\"([.!?])\", r\" \\1 \",s)\n",
    "    return(s)"
   ]
  },
  {
   "cell_type": "code",
   "execution_count": 55,
   "metadata": {},
   "outputs": [
    {
     "data": {
      "text/plain": [
       "'adja'"
      ]
     },
     "execution_count": 55,
     "metadata": {},
     "output_type": "execute_result"
    }
   ],
   "source": [
    "clean_string('JAJAJA  adJA ')"
   ]
  },
  {
   "cell_type": "markdown",
   "metadata": {},
   "source": [
    "# Aplicando la normalización"
   ]
  },
  {
   "cell_type": "code",
   "execution_count": 56,
   "metadata": {},
   "outputs": [
    {
     "name": "stdout",
     "output_type": "stream",
     "text": [
      "Wall time: 2min 56s\n"
     ]
    }
   ],
   "source": [
    "%%time\n",
    "df_sm['tweet_text_norm']= df_sm['tweet_text'].apply(lambda x: clean_string(x))"
   ]
  },
  {
   "cell_type": "markdown",
   "metadata": {},
   "source": [
    "# export dataset - now"
   ]
  },
  {
   "cell_type": "code",
   "execution_count": 60,
   "metadata": {},
   "outputs": [
    {
     "data": {
      "text/plain": [
       "'jajajwjqjajq cre palabr as'"
      ]
     },
     "execution_count": 60,
     "metadata": {},
     "output_type": "execute_result"
    }
   ],
   "source": [
    "clean_string('@Oliver__Cortez @ChelseaFC JAJAJWJQJAJQ LE CREES UNA PALABRA AL AS ???')"
   ]
  },
  {
   "cell_type": "code",
   "execution_count": 57,
   "metadata": {},
   "outputs": [],
   "source": [
    "df_sm.to_csv('../data/dev/df_sm_norm_'+'_'.join((re.sub(':','-',time.ctime())).split(' ')[1:])+'.csv',index=None)"
   ]
  },
  {
   "cell_type": "code",
   "execution_count": null,
   "metadata": {},
   "outputs": [],
   "source": [
    "%%time\n",
    "df_sm['len_words'] = df_sm['tweet_text_norm'].apply(lambda x: len(x.split(' ')))"
   ]
  },
  {
   "cell_type": "code",
   "execution_count": null,
   "metadata": {},
   "outputs": [],
   "source": [
    "np.sort(df_sm['len_words'].unique())"
   ]
  },
  {
   "cell_type": "code",
   "execution_count": null,
   "metadata": {},
   "outputs": [],
   "source": [
    "convert_stemm('funciona')"
   ]
  },
  {
   "cell_type": "code",
   "execution_count": null,
   "metadata": {},
   "outputs": [],
   "source": []
  }
 ],
 "metadata": {
  "kernelspec": {
   "display_name": "Python 3",
   "language": "python",
   "name": "python3"
  },
  "language_info": {
   "codemirror_mode": {
    "name": "ipython",
    "version": 3
   },
   "file_extension": ".py",
   "mimetype": "text/x-python",
   "name": "python",
   "nbconvert_exporter": "python",
   "pygments_lexer": "ipython3",
   "version": "3.7.4"
  }
 },
 "nbformat": 4,
 "nbformat_minor": 2
}
