{
 "cells": [
  {
   "cell_type": "markdown",
   "metadata": {},
   "source": [
    "### Importando librerias"
   ]
  },
  {
   "cell_type": "code",
   "execution_count": 4,
   "metadata": {},
   "outputs": [],
   "source": [
    "import pandas as pd"
   ]
  },
  {
   "cell_type": "markdown",
   "metadata": {},
   "source": [
    "# Select dataset - sentiment"
   ]
  },
  {
   "cell_type": "code",
   "execution_count": 2,
   "metadata": {},
   "outputs": [],
   "source": [
    "df = pd.read_excel(\"../../Documents/data_manual_03062020_drive (1).xlsx\",skiprows=1)"
   ]
  },
  {
   "cell_type": "code",
   "execution_count": 3,
   "metadata": {},
   "outputs": [
    {
     "data": {
      "text/html": [
       "<div>\n",
       "<style scoped>\n",
       "    .dataframe tbody tr th:only-of-type {\n",
       "        vertical-align: middle;\n",
       "    }\n",
       "\n",
       "    .dataframe tbody tr th {\n",
       "        vertical-align: top;\n",
       "    }\n",
       "\n",
       "    .dataframe thead th {\n",
       "        text-align: right;\n",
       "    }\n",
       "</style>\n",
       "<table border=\"1\" class=\"dataframe\">\n",
       "  <thead>\n",
       "    <tr style=\"text-align: right;\">\n",
       "      <th></th>\n",
       "      <th>comment_id</th>\n",
       "      <th>marcas</th>\n",
       "      <th>message</th>\n",
       "      <th>SENTIMENT_SC</th>\n",
       "      <th>CATEGORY_SC</th>\n",
       "      <th>SENTIMENT_OR</th>\n",
       "      <th>CATEGORY_OR</th>\n",
       "      <th>Unnamed: 7</th>\n",
       "      <th>Unnamed: 8</th>\n",
       "      <th>DESC_1</th>\n",
       "      <th>DESC_2</th>\n",
       "      <th>DESC_3</th>\n",
       "      <th>DESC_4</th>\n",
       "      <th>DESC_5</th>\n",
       "    </tr>\n",
       "  </thead>\n",
       "  <tbody>\n",
       "    <tr>\n",
       "      <th>0</th>\n",
       "      <td>2032715053449835_2034744706580203</td>\n",
       "      <td>Crediscotia</td>\n",
       "      <td>No llaman nada luego te dicen que tienes que e...</td>\n",
       "      <td>NEGATIVO</td>\n",
       "      <td>QUEJA</td>\n",
       "      <td>NEGATIVO</td>\n",
       "      <td>QUEJA</td>\n",
       "      <td>NaN</td>\n",
       "      <td>NaN</td>\n",
       "      <td>QUEJA/RECLAMO_PRODUCTO/EQUIPO/SERVICIO</td>\n",
       "      <td>CRITICA</td>\n",
       "      <td>NaN</td>\n",
       "      <td>NaN</td>\n",
       "      <td>NaN</td>\n",
       "    </tr>\n",
       "    <tr>\n",
       "      <th>1</th>\n",
       "      <td>10156367588876123_10156489257171123</td>\n",
       "      <td>Movistar</td>\n",
       "      <td>Yo tengo Movistar Total y hace más de un mes q...</td>\n",
       "      <td>NEGATIVO</td>\n",
       "      <td>QUEJA</td>\n",
       "      <td>NEGATIVO</td>\n",
       "      <td>QUEJA</td>\n",
       "      <td>NaN</td>\n",
       "      <td>NaN</td>\n",
       "      <td>QUEJA/RECLAMO_PRODUCTO/EQUIPO/SERVICIO</td>\n",
       "      <td>NaN</td>\n",
       "      <td>NaN</td>\n",
       "      <td>NaN</td>\n",
       "      <td>NaN</td>\n",
       "    </tr>\n",
       "    <tr>\n",
       "      <th>2</th>\n",
       "      <td>1249110398574541_1249184895233758</td>\n",
       "      <td>Movistar</td>\n",
       "      <td>Es la  empresa de comunicación más mala en la ...</td>\n",
       "      <td>NEGATIVO</td>\n",
       "      <td>QUEJA</td>\n",
       "      <td>NEGATIVO</td>\n",
       "      <td>QUEJA</td>\n",
       "      <td>NaN</td>\n",
       "      <td>NaN</td>\n",
       "      <td>QUEJA/RECLAMO_PRODUCTO/EQUIPO/SERVICIO</td>\n",
       "      <td>CRITICA</td>\n",
       "      <td>NaN</td>\n",
       "      <td>NaN</td>\n",
       "      <td>NaN</td>\n",
       "    </tr>\n",
       "    <tr>\n",
       "      <th>3</th>\n",
       "      <td>729858610854512_147986526442557</td>\n",
       "      <td>Reposteras de Oro</td>\n",
       "      <td>Feliz día a mi mamita y a todas l@s reposter@s...</td>\n",
       "      <td>POSITIVO</td>\n",
       "      <td>REAC_POSI_CONT</td>\n",
       "      <td>POSITIVO</td>\n",
       "      <td>REAC_POSI_CONT</td>\n",
       "      <td>NaN</td>\n",
       "      <td>NaN</td>\n",
       "      <td>SALUDO</td>\n",
       "      <td>FELICITACION/AGRADECIMIENTO</td>\n",
       "      <td>NaN</td>\n",
       "      <td>NaN</td>\n",
       "      <td>NaN</td>\n",
       "    </tr>\n",
       "    <tr>\n",
       "      <th>4</th>\n",
       "      <td>2276380079083330_2276574055730599</td>\n",
       "      <td>Crediscotia</td>\n",
       "      <td>Erick Cg ala om</td>\n",
       "      <td>POSITIVO</td>\n",
       "      <td>REAC_POSI_CONT</td>\n",
       "      <td>POSITIVO</td>\n",
       "      <td>REAC_POSI_CONT</td>\n",
       "      <td>NaN</td>\n",
       "      <td>NaN</td>\n",
       "      <td>INFO_CONTACTO</td>\n",
       "      <td>NaN</td>\n",
       "      <td>NaN</td>\n",
       "      <td>NaN</td>\n",
       "      <td>NaN</td>\n",
       "    </tr>\n",
       "  </tbody>\n",
       "</table>\n",
       "</div>"
      ],
      "text/plain": [
       "                            comment_id             marcas  \\\n",
       "0    2032715053449835_2034744706580203        Crediscotia   \n",
       "1  10156367588876123_10156489257171123           Movistar   \n",
       "2    1249110398574541_1249184895233758           Movistar   \n",
       "3      729858610854512_147986526442557  Reposteras de Oro   \n",
       "4    2276380079083330_2276574055730599        Crediscotia   \n",
       "\n",
       "                                             message SENTIMENT_SC  \\\n",
       "0  No llaman nada luego te dicen que tienes que e...     NEGATIVO   \n",
       "1  Yo tengo Movistar Total y hace más de un mes q...     NEGATIVO   \n",
       "2  Es la  empresa de comunicación más mala en la ...     NEGATIVO   \n",
       "3  Feliz día a mi mamita y a todas l@s reposter@s...     POSITIVO   \n",
       "4                                    Erick Cg ala om     POSITIVO   \n",
       "\n",
       "      CATEGORY_SC SENTIMENT_OR     CATEGORY_OR Unnamed: 7 Unnamed: 8  \\\n",
       "0           QUEJA     NEGATIVO           QUEJA        NaN        NaN   \n",
       "1           QUEJA     NEGATIVO           QUEJA        NaN        NaN   \n",
       "2           QUEJA     NEGATIVO           QUEJA        NaN        NaN   \n",
       "3  REAC_POSI_CONT     POSITIVO  REAC_POSI_CONT        NaN        NaN   \n",
       "4  REAC_POSI_CONT     POSITIVO  REAC_POSI_CONT        NaN        NaN   \n",
       "\n",
       "                                   DESC_1                       DESC_2 DESC_3  \\\n",
       "0  QUEJA/RECLAMO_PRODUCTO/EQUIPO/SERVICIO                      CRITICA    NaN   \n",
       "1  QUEJA/RECLAMO_PRODUCTO/EQUIPO/SERVICIO                          NaN    NaN   \n",
       "2  QUEJA/RECLAMO_PRODUCTO/EQUIPO/SERVICIO                      CRITICA    NaN   \n",
       "3                                  SALUDO  FELICITACION/AGRADECIMIENTO    NaN   \n",
       "4                           INFO_CONTACTO                          NaN    NaN   \n",
       "\n",
       "  DESC_4  DESC_5  \n",
       "0    NaN     NaN  \n",
       "1    NaN     NaN  \n",
       "2    NaN     NaN  \n",
       "3    NaN     NaN  \n",
       "4    NaN     NaN  "
      ]
     },
     "execution_count": 3,
     "metadata": {},
     "output_type": "execute_result"
    }
   ],
   "source": [
    "df.head(5)"
   ]
  },
  {
   "cell_type": "code",
   "execution_count": 4,
   "metadata": {},
   "outputs": [],
   "source": [
    "df_fin = df[['message','SENTIMENT_SC','CATEGORY_SC']]\n",
    "df_fin.columns = ['message','sentiment','category']"
   ]
  },
  {
   "cell_type": "code",
   "execution_count": 5,
   "metadata": {},
   "outputs": [
    {
     "data": {
      "text/plain": [
       "array(['QUEJA', 'REAC_POSI_CONT', 'SPAM_ELIMINADO', 'OTROS',\n",
       "       'SOLI_COMP_INFO', 'REAC_NEGA_CONT', 'STICKER_ETIQUETA', 'HATER',\n",
       "       nan], dtype=object)"
      ]
     },
     "execution_count": 5,
     "metadata": {},
     "output_type": "execute_result"
    }
   ],
   "source": [
    "df_fin['category'].unique()"
   ]
  },
  {
   "cell_type": "code",
   "execution_count": 6,
   "metadata": {
    "scrolled": true
   },
   "outputs": [
    {
     "data": {
      "text/plain": [
       "sentiment  category        \n",
       "NEGATIVO   HATER                 40\n",
       "           QUEJA                954\n",
       "           REAC_NEGA_CONT      1323\n",
       "           REAC_POSI_CONT         3\n",
       "           SPAM_ELIMINADO         1\n",
       "NEUTRO     OTROS                992\n",
       "           REAC_NEGA_CONT         2\n",
       "           REAC_POSI_CONT         3\n",
       "           SOLI_COMP_INFO         1\n",
       "           SPAM_ELIMINADO      1067\n",
       "           STICKER_ETIQUETA     361\n",
       "POSITIVO   OTROS                  5\n",
       "           QUEJA                  1\n",
       "           REAC_NEGA_CONT         3\n",
       "           REAC_POSI_CONT       918\n",
       "           SOLI_COMP_INFO      1466\n",
       "           SPAM_ELIMINADO         1\n",
       "           STICKER_ETIQUETA       1\n",
       "dtype: int64"
      ]
     },
     "execution_count": 6,
     "metadata": {},
     "output_type": "execute_result"
    }
   ],
   "source": [
    "df_fin.groupby(['sentiment','category']).size()"
   ]
  },
  {
   "cell_type": "code",
   "execution_count": 8,
   "metadata": {},
   "outputs": [],
   "source": [
    "\n",
    "#df_fin.loc[((df_fin['sentiment']=='NEGATIVO') & (df_fin['category']=='REAC_NEGA_CONT')) | () | ()]"
   ]
  },
  {
   "cell_type": "code",
   "execution_count": 9,
   "metadata": {},
   "outputs": [
    {
     "data": {
      "text/html": [
       "<div>\n",
       "<style scoped>\n",
       "    .dataframe tbody tr th:only-of-type {\n",
       "        vertical-align: middle;\n",
       "    }\n",
       "\n",
       "    .dataframe tbody tr th {\n",
       "        vertical-align: top;\n",
       "    }\n",
       "\n",
       "    .dataframe thead th {\n",
       "        text-align: right;\n",
       "    }\n",
       "</style>\n",
       "<table border=\"1\" class=\"dataframe\">\n",
       "  <thead>\n",
       "    <tr style=\"text-align: right;\">\n",
       "      <th></th>\n",
       "      <th>message</th>\n",
       "      <th>sentiment</th>\n",
       "      <th>category</th>\n",
       "    </tr>\n",
       "  </thead>\n",
       "  <tbody>\n",
       "    <tr>\n",
       "      <th>5</th>\n",
       "      <td>Ññbvññ</td>\n",
       "      <td>NEUTRO</td>\n",
       "      <td>SPAM_ELIMINADO</td>\n",
       "    </tr>\n",
       "    <tr>\n",
       "      <th>16</th>\n",
       "      <td>Rkdnfjjjhfg</td>\n",
       "      <td>NEUTRO</td>\n",
       "      <td>SPAM_ELIMINADO</td>\n",
       "    </tr>\n",
       "    <tr>\n",
       "      <th>22</th>\n",
       "      <td>Mm i Bb</td>\n",
       "      <td>NEUTRO</td>\n",
       "      <td>SPAM_ELIMINADO</td>\n",
       "    </tr>\n",
       "    <tr>\n",
       "      <th>31</th>\n",
       "      <td>Dei</td>\n",
       "      <td>NEUTRO</td>\n",
       "      <td>SPAM_ELIMINADO</td>\n",
       "    </tr>\n",
       "    <tr>\n",
       "      <th>64</th>\n",
       "      <td>Un nj</td>\n",
       "      <td>NEUTRO</td>\n",
       "      <td>SPAM_ELIMINADO</td>\n",
       "    </tr>\n",
       "    <tr>\n",
       "      <th>...</th>\n",
       "      <td>...</td>\n",
       "      <td>...</td>\n",
       "      <td>...</td>\n",
       "    </tr>\n",
       "    <tr>\n",
       "      <th>7119</th>\n",
       "      <td>Quieres pagar rápido y seguro? Yo te ayudo con...</td>\n",
       "      <td>NEUTRO</td>\n",
       "      <td>SPAM_ELIMINADO</td>\n",
       "    </tr>\n",
       "    <tr>\n",
       "      <th>7122</th>\n",
       "      <td>jki</td>\n",
       "      <td>NEUTRO</td>\n",
       "      <td>SPAM_ELIMINADO</td>\n",
       "    </tr>\n",
       "    <tr>\n",
       "      <th>7135</th>\n",
       "      <td>http://karolinaradio.com/estafa-movistar-solo-...</td>\n",
       "      <td>NEUTRO</td>\n",
       "      <td>SPAM_ELIMINADO</td>\n",
       "    </tr>\n",
       "    <tr>\n",
       "      <th>7145</th>\n",
       "      <td>Los interesados en solicitar instalación de in...</td>\n",
       "      <td>NEUTRO</td>\n",
       "      <td>SPAM_ELIMINADO</td>\n",
       "    </tr>\n",
       "    <tr>\n",
       "      <th>7159</th>\n",
       "      <td>FKIEUD</td>\n",
       "      <td>NEUTRO</td>\n",
       "      <td>SPAM_ELIMINADO</td>\n",
       "    </tr>\n",
       "  </tbody>\n",
       "</table>\n",
       "<p>1067 rows × 3 columns</p>\n",
       "</div>"
      ],
      "text/plain": [
       "                                                message sentiment  \\\n",
       "5                                                Ññbvññ    NEUTRO   \n",
       "16                                          Rkdnfjjjhfg    NEUTRO   \n",
       "22                                              Mm i Bb    NEUTRO   \n",
       "31                                                  Dei    NEUTRO   \n",
       "64                                                Un nj    NEUTRO   \n",
       "...                                                 ...       ...   \n",
       "7119  Quieres pagar rápido y seguro? Yo te ayudo con...    NEUTRO   \n",
       "7122                                                jki    NEUTRO   \n",
       "7135  http://karolinaradio.com/estafa-movistar-solo-...    NEUTRO   \n",
       "7145  Los interesados en solicitar instalación de in...    NEUTRO   \n",
       "7159                                             FKIEUD    NEUTRO   \n",
       "\n",
       "            category  \n",
       "5     SPAM_ELIMINADO  \n",
       "16    SPAM_ELIMINADO  \n",
       "22    SPAM_ELIMINADO  \n",
       "31    SPAM_ELIMINADO  \n",
       "64    SPAM_ELIMINADO  \n",
       "...              ...  \n",
       "7119  SPAM_ELIMINADO  \n",
       "7122  SPAM_ELIMINADO  \n",
       "7135  SPAM_ELIMINADO  \n",
       "7145  SPAM_ELIMINADO  \n",
       "7159  SPAM_ELIMINADO  \n",
       "\n",
       "[1067 rows x 3 columns]"
      ]
     },
     "execution_count": 9,
     "metadata": {},
     "output_type": "execute_result"
    }
   ],
   "source": [
    "df_fin.loc[(df_fin['sentiment']=='NEUTRO') & (df_fin['category']=='SPAM_ELIMINADO')]"
   ]
  },
  {
   "cell_type": "code",
   "execution_count": 10,
   "metadata": {},
   "outputs": [
    {
     "data": {
      "text/html": [
       "<div>\n",
       "<style scoped>\n",
       "    .dataframe tbody tr th:only-of-type {\n",
       "        vertical-align: middle;\n",
       "    }\n",
       "\n",
       "    .dataframe tbody tr th {\n",
       "        vertical-align: top;\n",
       "    }\n",
       "\n",
       "    .dataframe thead th {\n",
       "        text-align: right;\n",
       "    }\n",
       "</style>\n",
       "<table border=\"1\" class=\"dataframe\">\n",
       "  <thead>\n",
       "    <tr style=\"text-align: right;\">\n",
       "      <th></th>\n",
       "      <th>message</th>\n",
       "      <th>sentiment</th>\n",
       "      <th>category</th>\n",
       "    </tr>\n",
       "  </thead>\n",
       "  <tbody>\n",
       "    <tr>\n",
       "      <th>3</th>\n",
       "      <td>Feliz día a mi mamita y a todas l@s reposter@s...</td>\n",
       "      <td>POSITIVO</td>\n",
       "      <td>REAC_POSI_CONT</td>\n",
       "    </tr>\n",
       "    <tr>\n",
       "      <th>4</th>\n",
       "      <td>Erick Cg ala om</td>\n",
       "      <td>POSITIVO</td>\n",
       "      <td>REAC_POSI_CONT</td>\n",
       "    </tr>\n",
       "    <tr>\n",
       "      <th>9</th>\n",
       "      <td>SAN PABLO DEL PERÚ\\nLA UNIVERSIDAD DEL ÉXITO.....</td>\n",
       "      <td>POSITIVO</td>\n",
       "      <td>REAC_POSI_CONT</td>\n",
       "    </tr>\n",
       "    <tr>\n",
       "      <th>10</th>\n",
       "      <td>Q linda mis sobrinos</td>\n",
       "      <td>POSITIVO</td>\n",
       "      <td>REAC_POSI_CONT</td>\n",
       "    </tr>\n",
       "    <tr>\n",
       "      <th>38</th>\n",
       "      <td>Evaluación imbox!!! tenemos la instalación en ...</td>\n",
       "      <td>POSITIVO</td>\n",
       "      <td>REAC_POSI_CONT</td>\n",
       "    </tr>\n",
       "    <tr>\n",
       "      <th>...</th>\n",
       "      <td>...</td>\n",
       "      <td>...</td>\n",
       "      <td>...</td>\n",
       "    </tr>\n",
       "    <tr>\n",
       "      <th>7156</th>\n",
       "      <td>Que sigaaaa</td>\n",
       "      <td>POSITIVO</td>\n",
       "      <td>REAC_POSI_CONT</td>\n",
       "    </tr>\n",
       "    <tr>\n",
       "      <th>7158</th>\n",
       "      <td>Las pantuflas de ley</td>\n",
       "      <td>POSITIVO</td>\n",
       "      <td>REAC_POSI_CONT</td>\n",
       "    </tr>\n",
       "    <tr>\n",
       "      <th>7161</th>\n",
       "      <td>Yehhh tengo mi insignia :3</td>\n",
       "      <td>POSITIVO</td>\n",
       "      <td>REAC_POSI_CONT</td>\n",
       "    </tr>\n",
       "    <tr>\n",
       "      <th>7162</th>\n",
       "      <td>Mayatortasydecoraciones</td>\n",
       "      <td>POSITIVO</td>\n",
       "      <td>REAC_POSI_CONT</td>\n",
       "    </tr>\n",
       "    <tr>\n",
       "      <th>7167</th>\n",
       "      <td>Gracias Movistar, los felicito por su eficienc...</td>\n",
       "      <td>POSITIVO</td>\n",
       "      <td>REAC_POSI_CONT</td>\n",
       "    </tr>\n",
       "  </tbody>\n",
       "</table>\n",
       "<p>918 rows × 3 columns</p>\n",
       "</div>"
      ],
      "text/plain": [
       "                                                message sentiment  \\\n",
       "3     Feliz día a mi mamita y a todas l@s reposter@s...  POSITIVO   \n",
       "4                                       Erick Cg ala om  POSITIVO   \n",
       "9     SAN PABLO DEL PERÚ\\nLA UNIVERSIDAD DEL ÉXITO.....  POSITIVO   \n",
       "10                                 Q linda mis sobrinos  POSITIVO   \n",
       "38    Evaluación imbox!!! tenemos la instalación en ...  POSITIVO   \n",
       "...                                                 ...       ...   \n",
       "7156                                        Que sigaaaa  POSITIVO   \n",
       "7158                               Las pantuflas de ley  POSITIVO   \n",
       "7161                         Yehhh tengo mi insignia :3  POSITIVO   \n",
       "7162                            Mayatortasydecoraciones  POSITIVO   \n",
       "7167  Gracias Movistar, los felicito por su eficienc...  POSITIVO   \n",
       "\n",
       "            category  \n",
       "3     REAC_POSI_CONT  \n",
       "4     REAC_POSI_CONT  \n",
       "9     REAC_POSI_CONT  \n",
       "10    REAC_POSI_CONT  \n",
       "38    REAC_POSI_CONT  \n",
       "...              ...  \n",
       "7156  REAC_POSI_CONT  \n",
       "7158  REAC_POSI_CONT  \n",
       "7161  REAC_POSI_CONT  \n",
       "7162  REAC_POSI_CONT  \n",
       "7167  REAC_POSI_CONT  \n",
       "\n",
       "[918 rows x 3 columns]"
      ]
     },
     "execution_count": 10,
     "metadata": {},
     "output_type": "execute_result"
    }
   ],
   "source": [
    "df_fin[(df_fin['sentiment']=='POSITIVO') & (df_fin['category']=='REAC_POSI_CONT')]"
   ]
  },
  {
   "cell_type": "code",
   "execution_count": 11,
   "metadata": {},
   "outputs": [],
   "source": [
    "df_u = df_fin.loc[(df_fin['sentiment']=='POSITIVO') & (df_fin['category']=='REAC_POSI_CONT') | (df_fin['sentiment']=='NEGATIVO') & (df_fin['category']=='REAC_NEGA_CONT') ]"
   ]
  },
  {
   "cell_type": "code",
   "execution_count": 12,
   "metadata": {},
   "outputs": [
    {
     "data": {
      "text/plain": [
       "sentiment\n",
       "NEGATIVO    1323\n",
       "POSITIVO     918\n",
       "dtype: int64"
      ]
     },
     "execution_count": 12,
     "metadata": {},
     "output_type": "execute_result"
    }
   ],
   "source": [
    "df_u.groupby(['sentiment']).size()"
   ]
  },
  {
   "cell_type": "code",
   "execution_count": 13,
   "metadata": {},
   "outputs": [
    {
     "data": {
      "text/plain": [
       "2241"
      ]
     },
     "execution_count": 13,
     "metadata": {},
     "output_type": "execute_result"
    }
   ],
   "source": [
    "df_u.groupby(['sentiment']).size().sum()"
   ]
  },
  {
   "cell_type": "code",
   "execution_count": 14,
   "metadata": {},
   "outputs": [
    {
     "data": {
      "text/plain": [
       "(2241, 3)"
      ]
     },
     "execution_count": 14,
     "metadata": {},
     "output_type": "execute_result"
    }
   ],
   "source": [
    "df_u[~df_u['message'].duplicated()].shape"
   ]
  },
  {
   "cell_type": "code",
   "execution_count": 15,
   "metadata": {},
   "outputs": [],
   "source": [
    "df_u[['message','sentiment']].to_csv('../../Documents/data_sentiment_pos_nega_25072020.csv',index=None)"
   ]
  },
  {
   "cell_type": "code",
   "execution_count": 61,
   "metadata": {},
   "outputs": [],
   "source": [
    "df_sent = df_u.reset_index(drop=True).copy()"
   ]
  },
  {
   "cell_type": "markdown",
   "metadata": {},
   "source": [
    "# Preprocesamiento - NLP"
   ]
  },
  {
   "cell_type": "code",
   "execution_count": 5,
   "metadata": {},
   "outputs": [],
   "source": [
    "## with nlk\n",
    "\n",
    "from nltk.corpus import stopwords\n",
    "\n",
    "## with spacy\n",
    "from spacy.lang.es import Spanish\n",
    "from spacy.lang.es.stop_words import STOP_WORDS"
   ]
  },
  {
   "cell_type": "code",
   "execution_count": 63,
   "metadata": {},
   "outputs": [
    {
     "data": {
      "text/plain": [
       "313"
      ]
     },
     "execution_count": 63,
     "metadata": {},
     "output_type": "execute_result"
    }
   ],
   "source": [
    "len(stopwords.words('spanish'))"
   ]
  },
  {
   "cell_type": "code",
   "execution_count": 64,
   "metadata": {},
   "outputs": [],
   "source": [
    "#'mas','si','mio','mia','mios','mias', estas\n",
    "stopwords.words('spanish')\n",
    "exclude_stopword = ['para',\n",
    "'no',\n",
    "'como',\n",
    "'más',\n",
    "'pero',\n",
    "'sus',\n",
    "'ya',\n",
    "'o',\n",
    "'este',\n",
    "'sí',\n",
    "'porque',\n",
    "'muy',\n",
    "'sin',\n",
    "'tambien',\n",
    "'todo',\n",
    "'nos',\n",
    "'ni',\n",
    "'contra',\n",
    "'tanto',\n",
    "'nada',\n",
    "'poco',\n",
    "'fue',\n",
    "'fui',\n",
    "'fuiste',\n",
    "'fuimos',\n",
    "'fuisteis',\n",
    "'sentida',\n",
    "'sentido',\n",
    "'tenia']\n"
   ]
  },
  {
   "cell_type": "code",
   "execution_count": 65,
   "metadata": {},
   "outputs": [
    {
     "name": "stdout",
     "output_type": "stream",
     "text": [
      "spaCy Version: 2.3.2\n"
     ]
    }
   ],
   "source": [
    "import spacy\n",
    "print('spaCy Version: %s' % (spacy.__version__))\n"
   ]
  },
  {
   "cell_type": "code",
   "execution_count": 66,
   "metadata": {},
   "outputs": [],
   "source": [
    "spacy_nlp = spacy.load('es_core_news_sm')\n"
   ]
  },
  {
   "cell_type": "code",
   "execution_count": 67,
   "metadata": {},
   "outputs": [
    {
     "name": "stdout",
     "output_type": "stream",
     "text": [
      "Number of stop words: 551\n",
      "First ten stop words: ['gran', 'haber', 'tenga', 'poner', 'conmigo', 'mediante', 'dijo', 'seis', 'ciertos', 'propias']\n"
     ]
    }
   ],
   "source": [
    "spacy_stopwords = spacy.lang.es.stop_words.STOP_WORDS\n",
    "print('Number of stop words: %d' % len(spacy_stopwords))\n",
    "print('First ten stop words: %s' % list(spacy_stopwords)[:10])"
   ]
  },
  {
   "cell_type": "code",
   "execution_count": 68,
   "metadata": {
    "scrolled": true
   },
   "outputs": [
    {
     "data": {
      "text/plain": [
       "{'actualmente',\n",
       " 'acuerdo',\n",
       " 'adelante',\n",
       " 'ademas',\n",
       " 'además',\n",
       " 'adrede',\n",
       " 'afirmó',\n",
       " 'agregó',\n",
       " 'ahi',\n",
       " 'ahora',\n",
       " 'ahí',\n",
       " 'al',\n",
       " 'algo',\n",
       " 'alguna',\n",
       " 'algunas',\n",
       " 'alguno',\n",
       " 'algunos',\n",
       " 'algún',\n",
       " 'alli',\n",
       " 'allí',\n",
       " 'alrededor',\n",
       " 'ambos',\n",
       " 'ampleamos',\n",
       " 'antano',\n",
       " 'antaño',\n",
       " 'ante',\n",
       " 'anterior',\n",
       " 'antes',\n",
       " 'apenas',\n",
       " 'aproximadamente',\n",
       " 'aquel',\n",
       " 'aquella',\n",
       " 'aquellas',\n",
       " 'aquello',\n",
       " 'aquellos',\n",
       " 'aqui',\n",
       " 'aquél',\n",
       " 'aquélla',\n",
       " 'aquéllas',\n",
       " 'aquéllos',\n",
       " 'aquí',\n",
       " 'arriba',\n",
       " 'arribaabajo',\n",
       " 'aseguró',\n",
       " 'asi',\n",
       " 'así',\n",
       " 'atras',\n",
       " 'aun',\n",
       " 'aunque',\n",
       " 'ayer',\n",
       " 'añadió',\n",
       " 'aún',\n",
       " 'bajo',\n",
       " 'bastante',\n",
       " 'bien',\n",
       " 'breve',\n",
       " 'buen',\n",
       " 'buena',\n",
       " 'buenas',\n",
       " 'bueno',\n",
       " 'buenos',\n",
       " 'cada',\n",
       " 'casi',\n",
       " 'cerca',\n",
       " 'cierta',\n",
       " 'ciertas',\n",
       " 'cierto',\n",
       " 'ciertos',\n",
       " 'cinco',\n",
       " 'claro',\n",
       " 'comentó',\n",
       " 'como',\n",
       " 'con',\n",
       " 'conmigo',\n",
       " 'conocer',\n",
       " 'conseguimos',\n",
       " 'conseguir',\n",
       " 'considera',\n",
       " 'consideró',\n",
       " 'consigo',\n",
       " 'consigue',\n",
       " 'consiguen',\n",
       " 'consigues',\n",
       " 'contigo',\n",
       " 'contra',\n",
       " 'cosas',\n",
       " 'creo',\n",
       " 'cual',\n",
       " 'cuales',\n",
       " 'cualquier',\n",
       " 'cuando',\n",
       " 'cuanta',\n",
       " 'cuantas',\n",
       " 'cuanto',\n",
       " 'cuantos',\n",
       " 'cuatro',\n",
       " 'cuenta',\n",
       " 'cuál',\n",
       " 'cuáles',\n",
       " 'cuándo',\n",
       " 'cuánta',\n",
       " 'cuántas',\n",
       " 'cuánto',\n",
       " 'cuántos',\n",
       " 'cómo',\n",
       " 'da',\n",
       " 'dado',\n",
       " 'dan',\n",
       " 'dar',\n",
       " 'de',\n",
       " 'debajo',\n",
       " 'debe',\n",
       " 'deben',\n",
       " 'debido',\n",
       " 'decir',\n",
       " 'dejó',\n",
       " 'del',\n",
       " 'delante',\n",
       " 'demasiado',\n",
       " 'demás',\n",
       " 'dentro',\n",
       " 'deprisa',\n",
       " 'desde',\n",
       " 'despacio',\n",
       " 'despues',\n",
       " 'después',\n",
       " 'detras',\n",
       " 'detrás',\n",
       " 'dia',\n",
       " 'dias',\n",
       " 'dice',\n",
       " 'dicen',\n",
       " 'dicho',\n",
       " 'dieron',\n",
       " 'diferente',\n",
       " 'diferentes',\n",
       " 'dijeron',\n",
       " 'dijo',\n",
       " 'dio',\n",
       " 'donde',\n",
       " 'dos',\n",
       " 'durante',\n",
       " 'día',\n",
       " 'días',\n",
       " 'dónde',\n",
       " 'ejemplo',\n",
       " 'el',\n",
       " 'ella',\n",
       " 'ellas',\n",
       " 'ello',\n",
       " 'ellos',\n",
       " 'embargo',\n",
       " 'empleais',\n",
       " 'emplean',\n",
       " 'emplear',\n",
       " 'empleas',\n",
       " 'empleo',\n",
       " 'en',\n",
       " 'encima',\n",
       " 'encuentra',\n",
       " 'enfrente',\n",
       " 'enseguida',\n",
       " 'entonces',\n",
       " 'entre',\n",
       " 'era',\n",
       " 'eramos',\n",
       " 'eran',\n",
       " 'eras',\n",
       " 'eres',\n",
       " 'es',\n",
       " 'esa',\n",
       " 'esas',\n",
       " 'ese',\n",
       " 'eso',\n",
       " 'esos',\n",
       " 'esta',\n",
       " 'estaba',\n",
       " 'estaban',\n",
       " 'estado',\n",
       " 'estados',\n",
       " 'estais',\n",
       " 'estamos',\n",
       " 'estan',\n",
       " 'estar',\n",
       " 'estará',\n",
       " 'estas',\n",
       " 'este',\n",
       " 'esto',\n",
       " 'estos',\n",
       " 'estoy',\n",
       " 'estuvo',\n",
       " 'está',\n",
       " 'están',\n",
       " 'ex',\n",
       " 'excepto',\n",
       " 'existe',\n",
       " 'existen',\n",
       " 'explicó',\n",
       " 'expresó',\n",
       " 'fin',\n",
       " 'final',\n",
       " 'fue',\n",
       " 'fuera',\n",
       " 'fueron',\n",
       " 'fui',\n",
       " 'fuimos',\n",
       " 'general',\n",
       " 'gran',\n",
       " 'grandes',\n",
       " 'gueno',\n",
       " 'ha',\n",
       " 'haber',\n",
       " 'habia',\n",
       " 'habla',\n",
       " 'hablan',\n",
       " 'habrá',\n",
       " 'había',\n",
       " 'habían',\n",
       " 'hace',\n",
       " 'haceis',\n",
       " 'hacemos',\n",
       " 'hacen',\n",
       " 'hacer',\n",
       " 'hacerlo',\n",
       " 'haces',\n",
       " 'hacia',\n",
       " 'haciendo',\n",
       " 'hago',\n",
       " 'han',\n",
       " 'hasta',\n",
       " 'hay',\n",
       " 'haya',\n",
       " 'he',\n",
       " 'hecho',\n",
       " 'hemos',\n",
       " 'hicieron',\n",
       " 'hizo',\n",
       " 'horas',\n",
       " 'hoy',\n",
       " 'hubo',\n",
       " 'igual',\n",
       " 'incluso',\n",
       " 'indicó',\n",
       " 'informo',\n",
       " 'informó',\n",
       " 'intenta',\n",
       " 'intentais',\n",
       " 'intentamos',\n",
       " 'intentan',\n",
       " 'intentar',\n",
       " 'intentas',\n",
       " 'intento',\n",
       " 'ir',\n",
       " 'junto',\n",
       " 'la',\n",
       " 'lado',\n",
       " 'largo',\n",
       " 'las',\n",
       " 'le',\n",
       " 'lejos',\n",
       " 'les',\n",
       " 'llegó',\n",
       " 'lleva',\n",
       " 'llevar',\n",
       " 'lo',\n",
       " 'los',\n",
       " 'luego',\n",
       " 'lugar',\n",
       " 'mal',\n",
       " 'manera',\n",
       " 'manifestó',\n",
       " 'mas',\n",
       " 'mayor',\n",
       " 'me',\n",
       " 'mediante',\n",
       " 'medio',\n",
       " 'mejor',\n",
       " 'mencionó',\n",
       " 'menos',\n",
       " 'menudo',\n",
       " 'mi',\n",
       " 'mia',\n",
       " 'mias',\n",
       " 'mientras',\n",
       " 'mio',\n",
       " 'mios',\n",
       " 'mis',\n",
       " 'misma',\n",
       " 'mismas',\n",
       " 'mismo',\n",
       " 'mismos',\n",
       " 'modo',\n",
       " 'momento',\n",
       " 'mucha',\n",
       " 'muchas',\n",
       " 'mucho',\n",
       " 'muchos',\n",
       " 'muy',\n",
       " 'más',\n",
       " 'mí',\n",
       " 'mía',\n",
       " 'mías',\n",
       " 'mío',\n",
       " 'míos',\n",
       " 'nada',\n",
       " 'nadie',\n",
       " 'ni',\n",
       " 'ninguna',\n",
       " 'ningunas',\n",
       " 'ninguno',\n",
       " 'ningunos',\n",
       " 'ningún',\n",
       " 'no',\n",
       " 'nos',\n",
       " 'nosotras',\n",
       " 'nosotros',\n",
       " 'nuestra',\n",
       " 'nuestras',\n",
       " 'nuestro',\n",
       " 'nuestros',\n",
       " 'nueva',\n",
       " 'nuevas',\n",
       " 'nuevo',\n",
       " 'nuevos',\n",
       " 'nunca',\n",
       " 'ocho',\n",
       " 'os',\n",
       " 'otra',\n",
       " 'otras',\n",
       " 'otro',\n",
       " 'otros',\n",
       " 'pais',\n",
       " 'para',\n",
       " 'parece',\n",
       " 'parte',\n",
       " 'partir',\n",
       " 'pasada',\n",
       " 'pasado',\n",
       " 'paìs',\n",
       " 'peor',\n",
       " 'pero',\n",
       " 'pesar',\n",
       " 'poca',\n",
       " 'pocas',\n",
       " 'poco',\n",
       " 'pocos',\n",
       " 'podeis',\n",
       " 'podemos',\n",
       " 'poder',\n",
       " 'podria',\n",
       " 'podriais',\n",
       " 'podriamos',\n",
       " 'podrian',\n",
       " 'podrias',\n",
       " 'podrá',\n",
       " 'podrán',\n",
       " 'podría',\n",
       " 'podrían',\n",
       " 'poner',\n",
       " 'por',\n",
       " 'porque',\n",
       " 'posible',\n",
       " 'primer',\n",
       " 'primera',\n",
       " 'primero',\n",
       " 'primeros',\n",
       " 'principalmente',\n",
       " 'pronto',\n",
       " 'propia',\n",
       " 'propias',\n",
       " 'propio',\n",
       " 'propios',\n",
       " 'proximo',\n",
       " 'próximo',\n",
       " 'próximos',\n",
       " 'pudo',\n",
       " 'pueda',\n",
       " 'puede',\n",
       " 'pueden',\n",
       " 'puedo',\n",
       " 'pues',\n",
       " 'qeu',\n",
       " 'que',\n",
       " 'quedó',\n",
       " 'queremos',\n",
       " 'quien',\n",
       " 'quienes',\n",
       " 'quiere',\n",
       " 'quiza',\n",
       " 'quizas',\n",
       " 'quizá',\n",
       " 'quizás',\n",
       " 'quién',\n",
       " 'quiénes',\n",
       " 'qué',\n",
       " 'raras',\n",
       " 'realizado',\n",
       " 'realizar',\n",
       " 'realizó',\n",
       " 'repente',\n",
       " 'respecto',\n",
       " 'sabe',\n",
       " 'sabeis',\n",
       " 'sabemos',\n",
       " 'saben',\n",
       " 'saber',\n",
       " 'sabes',\n",
       " 'salvo',\n",
       " 'se',\n",
       " 'sea',\n",
       " 'sean',\n",
       " 'segun',\n",
       " 'segunda',\n",
       " 'segundo',\n",
       " 'según',\n",
       " 'seis',\n",
       " 'ser',\n",
       " 'sera',\n",
       " 'será',\n",
       " 'serán',\n",
       " 'sería',\n",
       " 'señaló',\n",
       " 'si',\n",
       " 'sido',\n",
       " 'siempre',\n",
       " 'siendo',\n",
       " 'siete',\n",
       " 'sigue',\n",
       " 'siguiente',\n",
       " 'sin',\n",
       " 'sino',\n",
       " 'sobre',\n",
       " 'sois',\n",
       " 'sola',\n",
       " 'solamente',\n",
       " 'solas',\n",
       " 'solo',\n",
       " 'solos',\n",
       " 'somos',\n",
       " 'son',\n",
       " 'soy',\n",
       " 'soyos',\n",
       " 'su',\n",
       " 'supuesto',\n",
       " 'sus',\n",
       " 'suya',\n",
       " 'suyas',\n",
       " 'suyo',\n",
       " 'sé',\n",
       " 'sí',\n",
       " 'sólo',\n",
       " 'tal',\n",
       " 'tambien',\n",
       " 'también',\n",
       " 'tampoco',\n",
       " 'tan',\n",
       " 'tanto',\n",
       " 'tarde',\n",
       " 'te',\n",
       " 'temprano',\n",
       " 'tendrá',\n",
       " 'tendrán',\n",
       " 'teneis',\n",
       " 'tenemos',\n",
       " 'tener',\n",
       " 'tenga',\n",
       " 'tengo',\n",
       " 'tenido',\n",
       " 'tenía',\n",
       " 'tercera',\n",
       " 'ti',\n",
       " 'tiempo',\n",
       " 'tiene',\n",
       " 'tienen',\n",
       " 'toda',\n",
       " 'todas',\n",
       " 'todavia',\n",
       " 'todavía',\n",
       " 'todo',\n",
       " 'todos',\n",
       " 'total',\n",
       " 'trabaja',\n",
       " 'trabajais',\n",
       " 'trabajamos',\n",
       " 'trabajan',\n",
       " 'trabajar',\n",
       " 'trabajas',\n",
       " 'trabajo',\n",
       " 'tras',\n",
       " 'trata',\n",
       " 'través',\n",
       " 'tres',\n",
       " 'tu',\n",
       " 'tus',\n",
       " 'tuvo',\n",
       " 'tuya',\n",
       " 'tuyas',\n",
       " 'tuyo',\n",
       " 'tuyos',\n",
       " 'tú',\n",
       " 'ultimo',\n",
       " 'un',\n",
       " 'una',\n",
       " 'unas',\n",
       " 'uno',\n",
       " 'unos',\n",
       " 'usa',\n",
       " 'usais',\n",
       " 'usamos',\n",
       " 'usan',\n",
       " 'usar',\n",
       " 'usas',\n",
       " 'uso',\n",
       " 'usted',\n",
       " 'ustedes',\n",
       " 'va',\n",
       " 'vais',\n",
       " 'valor',\n",
       " 'vamos',\n",
       " 'van',\n",
       " 'varias',\n",
       " 'varios',\n",
       " 'vaya',\n",
       " 'veces',\n",
       " 'ver',\n",
       " 'verdad',\n",
       " 'verdadera',\n",
       " 'verdadero',\n",
       " 'vez',\n",
       " 'vosotras',\n",
       " 'vosotros',\n",
       " 'voy',\n",
       " 'vuestra',\n",
       " 'vuestras',\n",
       " 'vuestro',\n",
       " 'vuestros',\n",
       " 'ya',\n",
       " 'yo',\n",
       " 'él',\n",
       " 'ésa',\n",
       " 'ésas',\n",
       " 'ése',\n",
       " 'ésos',\n",
       " 'ésta',\n",
       " 'éstas',\n",
       " 'éste',\n",
       " 'éstos',\n",
       " 'última',\n",
       " 'últimas',\n",
       " 'último',\n",
       " 'últimos'}"
      ]
     },
     "execution_count": 68,
     "metadata": {},
     "output_type": "execute_result"
    }
   ],
   "source": [
    "spacy_stopwords"
   ]
  },
  {
   "cell_type": "markdown",
   "metadata": {},
   "source": [
    "## Remove stopwords - nltk"
   ]
  },
  {
   "cell_type": "code",
   "execution_count": 69,
   "metadata": {},
   "outputs": [
    {
     "name": "stdout",
     "output_type": "stream",
     "text": [
      "Num. exclude stopwords:  30\n",
      "Num. stopwords 313\n"
     ]
    }
   ],
   "source": [
    "#nlk_stopword\n",
    "nltk_stopwords = stopwords.words('spanish')\n",
    "print(\"Num. exclude stopwords: \",len(exclude_stopword))\n",
    "print(\"Num. stopwords\",len(nltk_stopwords))\n"
   ]
  },
  {
   "cell_type": "code",
   "execution_count": 70,
   "metadata": {},
   "outputs": [
    {
     "data": {
      "text/plain": [
       "286"
      ]
     },
     "execution_count": 70,
     "metadata": {},
     "output_type": "execute_result"
    }
   ],
   "source": [
    "len(set(nltk_stopwords)-set(exclude_stopword))"
   ]
  },
  {
   "cell_type": "code",
   "execution_count": 71,
   "metadata": {},
   "outputs": [
    {
     "data": {
      "text/plain": [
       "30"
      ]
     },
     "execution_count": 71,
     "metadata": {},
     "output_type": "execute_result"
    }
   ],
   "source": [
    "len(set(exclude_stopword))"
   ]
  },
  {
   "cell_type": "code",
   "execution_count": 72,
   "metadata": {},
   "outputs": [
    {
     "data": {
      "text/plain": [
       "313"
      ]
     },
     "execution_count": 72,
     "metadata": {},
     "output_type": "execute_result"
    }
   ],
   "source": [
    "len(set(stopwords.words('spanish')))"
   ]
  },
  {
   "cell_type": "code",
   "execution_count": 73,
   "metadata": {
    "scrolled": true
   },
   "outputs": [],
   "source": [
    "nltk_sw = [e for e in nltk_stopwords if (e not in exclude_stopword)]"
   ]
  },
  {
   "cell_type": "code",
   "execution_count": 79,
   "metadata": {},
   "outputs": [
    {
     "name": "stdout",
     "output_type": "stream",
     "text": [
      "showing info https://raw.githubusercontent.com/nltk/nltk_data/gh-pages/index.xml\n"
     ]
    },
    {
     "data": {
      "text/plain": [
       "True"
      ]
     },
     "execution_count": 79,
     "metadata": {},
     "output_type": "execute_result"
    }
   ],
   "source": [
    "nltk.download()"
   ]
  },
  {
   "cell_type": "code",
   "execution_count": 93,
   "metadata": {},
   "outputs": [
    {
     "data": {
      "text/plain": [
       "\"\\ntokens = nltk.tokenize.word_tokenize(article)\\ntokens = [token for token in tokens if not token in nltk_stopwords]\\nprint('Original Article: %s' % (article))\\nprint()\\nprint(tokens)\\n\""
      ]
     },
     "execution_count": 93,
     "metadata": {},
     "output_type": "execute_result"
    }
   ],
   "source": [
    "def remove_stopword(message):\n",
    "    tokens = nltk.tokenize.word_tokenize(message)\n",
    "    tokens = [token for token in tokens if not token in nltk_sw]\n",
    "    return tokens\n",
    "'''\n",
    "tokens = nltk.tokenize.word_tokenize(article)\n",
    "tokens = [token for token in tokens if not token in nltk_stopwords]\n",
    "print('Original Article: %s' % (article))\n",
    "print()\n",
    "print(tokens)\n",
    "'''"
   ]
  },
  {
   "cell_type": "code",
   "execution_count": 99,
   "metadata": {},
   "outputs": [],
   "source": [
    "df_sent['count_without_stopword'] = df_sent['message'].apply(lambda x: len(remove_stopword(message=x)))"
   ]
  },
  {
   "cell_type": "code",
   "execution_count": 105,
   "metadata": {},
   "outputs": [
    {
     "data": {
      "text/plain": [
       "<matplotlib.axes._subplots.AxesSubplot at 0x2230fe1fb88>"
      ]
     },
     "execution_count": 105,
     "metadata": {},
     "output_type": "execute_result"
    },
    {
     "data": {
      "image/png": "[encoded data removed]",
      "text/plain": [
       "<Figure size 432x288 with 1 Axes>"
      ]
     },
     "metadata": {
      "needs_background": "light"
     },
     "output_type": "display_data"
    }
   ],
   "source": [
    "df_sent.loc[df_sent['count_without_stopword']<=15,'count_without_stopword'].hist()"
   ]
  },
  {
   "cell_type": "code",
   "execution_count": 110,
   "metadata": {},
   "outputs": [],
   "source": [
    "snowball_stemmer = nltk.stem.SnowballStemmer('spanish')"
   ]
  },
  {
   "cell_type": "code",
   "execution_count": 3,
   "metadata": {},
   "outputs": [
    {
     "ename": "NameError",
     "evalue": "name 'snowball_stemmer' is not defined",
     "output_type": "error",
     "traceback": [
      "\u001b[1;31m---------------------------------------------------------------------------\u001b[0m",
      "\u001b[1;31mNameError\u001b[0m                                 Traceback (most recent call last)",
      "\u001b[1;32m<ipython-input-3-cc910e018170>\u001b[0m in \u001b[0;36m<module>\u001b[1;34m\u001b[0m\n\u001b[1;32m----> 1\u001b[1;33m \u001b[0msnowball_stemmer\u001b[0m\u001b[1;33m.\u001b[0m\u001b[0mstem\u001b[0m\u001b[1;33m(\u001b[0m\u001b[1;34m'informes'\u001b[0m\u001b[1;33m)\u001b[0m\u001b[1;33m\u001b[0m\u001b[1;33m\u001b[0m\u001b[0m\n\u001b[0m",
      "\u001b[1;31mNameError\u001b[0m: name 'snowball_stemmer' is not defined"
     ]
    }
   ],
   "source": [
    "snowball_stemmer.stem('informes')"
   ]
  },
  {
   "cell_type": "code",
   "execution_count": 124,
   "metadata": {},
   "outputs": [
    {
     "name": "stdout",
     "output_type": "stream",
     "text": [
      "Original : hola, New: hol\n",
      "Original : quiero, New: quier\n",
      "Original : asustarte, New: asustart\n",
      "Original : pero, New: per\n",
      "Original : enfermo, New: enferm\n",
      "Original : poco, New: poc\n",
      "Original : fiebre, New: fiebr\n"
     ]
    }
   ],
   "source": [
    "for token in tokens:\n",
    "    stemmed_token = snowball_stemmer.stem(token)\n",
    "    \n",
    "    if token != stemmed_token:\n",
    "        print('Original : %s, New: %s' % (token, stemmed_token))"
   ]
  },
  {
   "cell_type": "code",
   "execution_count": null,
   "metadata": {},
   "outputs": [],
   "source": []
  }
 ],
 "metadata": {
  "kernelspec": {
   "display_name": "Python 3",
   "language": "python",
   "name": "python3"
  },
  "language_info": {
   "codemirror_mode": {
    "name": "ipython",
    "version": 3
   },
   "file_extension": ".py",
   "mimetype": "text/x-python",
   "name": "python",
   "nbconvert_exporter": "python",
   "pygments_lexer": "ipython3",
   "version": "3.7.4"
  }
 },
 "nbformat": 4,
 "nbformat_minor": 2
}
