{
 "cells": [
  {
   "cell_type": "markdown",
   "metadata": {},
   "source": [
    "\n",
    "# Importando librerias"
   ]
  },
  {
   "cell_type": "code",
   "execution_count": 1,
   "metadata": {},
   "outputs": [],
   "source": [
    "import pandas as pd"
   ]
  },
  {
   "cell_type": "markdown",
   "metadata": {},
   "source": [
    "# Cargando _.csv_"
   ]
  },
  {
   "cell_type": "code",
   "execution_count": 2,
   "metadata": {},
   "outputs": [],
   "source": [
    "df_sm = pd.read_csv('../data/origin/betsentiment-ES-tweets-sentiment-teams/betsentiment-ES-tweets-sentiment-teams.csv',encoding='latin1') \n",
    "df_lg = pd.read_csv('../data/origin/betsentiment-ES-tweets-sentiment-worldcup-split.zip/betsentiment-ES-tweets-sentiment-worldcup.csv',encoding='latin1')"
   ]
  },
  {
   "cell_type": "code",
   "execution_count": 3,
   "metadata": {},
   "outputs": [],
   "source": [
    "df_sm = df_sm[~df_sm['tweet_text'].duplicated()]\n",
    "df_lg = df_lg[~df_lg['tweet_text'].duplicated()]"
   ]
  },
  {
   "cell_type": "code",
   "execution_count": 5,
   "metadata": {},
   "outputs": [
    {
     "data": {
      "text/plain": [
       "sentiment\n",
       "MIXED          880\n",
       "NEGATIVE      9479\n",
       "NEUTRAL     109866\n",
       "POSITIVE     10976\n",
       "dtype: int64"
      ]
     },
     "metadata": {},
     "output_type": "display_data"
    },
    {
     "data": {
      "text/plain": [
       "sentiment\n",
       "MIXED         6649\n",
       "NEGATIVE    101915\n",
       "NEUTRAL     664057\n",
       "POSITIVE    131767\n",
       "dtype: int64"
      ]
     },
     "metadata": {},
     "output_type": "display_data"
    }
   ],
   "source": [
    "display(df_sm.groupby(['sentiment']).size())\n",
    "display(df_lg.groupby(['sentiment']).size())"
   ]
  },
  {
   "cell_type": "markdown",
   "metadata": {},
   "source": [
    "### Filtrando solo `NEGATIVE`, `NEUTRAL`, `POSITIVE` => remove: `MIXED`"
   ]
  },
  {
   "cell_type": "code",
   "execution_count": 6,
   "metadata": {},
   "outputs": [],
   "source": [
    "df_sm = df_sm[df_sm['sentiment']!='MIXED']\n",
    "df_lg = df_lg[df_lg['sentiment']!='MIXED']"
   ]
  },
  {
   "cell_type": "code",
   "execution_count": 7,
   "metadata": {},
   "outputs": [
    {
     "data": {
      "text/plain": [
       "Index(['tweet_date_created', 'tweet_id', 'tweet_text', 'language', 'sentiment',\n",
       "       'sentiment_score'],\n",
       "      dtype='object')"
      ]
     },
     "execution_count": 7,
     "metadata": {},
     "output_type": "execute_result"
    }
   ],
   "source": [
    "df_sm.columns"
   ]
  },
  {
   "cell_type": "markdown",
   "metadata": {},
   "source": [
    "## Exportando to `.csv`"
   ]
  },
  {
   "cell_type": "code",
   "execution_count": 8,
   "metadata": {},
   "outputs": [],
   "source": [
    "df_sm[['tweet_id','tweet_text','sentiment']].to_csv('../data/dev/df_sm_tweets_26072020.csv')\n",
    "df_lg[['tweet_id','tweet_text','sentiment']].to_csv('../data/dev/df_lg_tweets_26072020.csv')\n"
   ]
  },
  {
   "cell_type": "code",
   "execution_count": null,
   "metadata": {},
   "outputs": [],
   "source": []
  }
 ],
 "metadata": {
  "kernelspec": {
   "display_name": "Python 3",
   "language": "python",
   "name": "python3"
  },
  "language_info": {
   "codemirror_mode": {
    "name": "ipython",
    "version": 3
   },
   "file_extension": ".py",
   "mimetype": "text/x-python",
   "name": "python",
   "nbconvert_exporter": "python",
   "pygments_lexer": "ipython3",
   "version": "3.7.4"
  }
 },
 "nbformat": 4,
 "nbformat_minor": 2
}
