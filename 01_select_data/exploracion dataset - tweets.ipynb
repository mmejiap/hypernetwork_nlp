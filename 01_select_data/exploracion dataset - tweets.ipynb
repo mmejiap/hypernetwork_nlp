{
 "cells": [
  {
   "cell_type": "markdown",
   "metadata": {},
   "source": [
    "## Importando librerias"
   ]
  },
  {
   "cell_type": "code",
   "execution_count": 2,
   "metadata": {},
   "outputs": [],
   "source": [
    "\n",
    "import pandas as pd"
   ]
  },
  {
   "cell_type": "markdown",
   "metadata": {},
   "source": [
    "\n",
    "## Cargando _.csv_"
   ]
  },
  {
   "cell_type": "code",
   "execution_count": 8,
   "metadata": {},
   "outputs": [
    {
     "data": {
      "text/html": [
       "<div>\n",
       "<style scoped>\n",
       "    .dataframe tbody tr th:only-of-type {\n",
       "        vertical-align: middle;\n",
       "    }\n",
       "\n",
       "    .dataframe tbody tr th {\n",
       "        vertical-align: top;\n",
       "    }\n",
       "\n",
       "    .dataframe thead th {\n",
       "        text-align: right;\n",
       "    }\n",
       "</style>\n",
       "<table border=\"1\" class=\"dataframe\">\n",
       "  <thead>\n",
       "    <tr style=\"text-align: right;\">\n",
       "      <th></th>\n",
       "      <th>tweet_date_created</th>\n",
       "      <th>tweet_id</th>\n",
       "      <th>tweet_text</th>\n",
       "      <th>language</th>\n",
       "      <th>sentiment</th>\n",
       "      <th>sentiment_score</th>\n",
       "    </tr>\n",
       "  </thead>\n",
       "  <tbody>\n",
       "    <tr>\n",
       "      <th>0</th>\n",
       "      <td>2018-08-08T13:09:15.489000</td>\n",
       "      <td>1027179935184703489</td>\n",
       "      <td>Alisson puede estar más tranquilo, no cargará ...</td>\n",
       "      <td>es</td>\n",
       "      <td>POSITIVE</td>\n",
       "      <td>{\"Neutral\":0.082259356975555419921875,\"Negativ...</td>\n",
       "    </tr>\n",
       "    <tr>\n",
       "      <th>1</th>\n",
       "      <td>2018-08-08T18:27:37.320000</td>\n",
       "      <td>1027260056092344320</td>\n",
       "      <td>@iPincheViky @ChelseaFC Es que el director eje...</td>\n",
       "      <td>es</td>\n",
       "      <td>NEUTRAL</td>\n",
       "      <td>{\"Neutral\":0.827011644840240478515625,\"Negativ...</td>\n",
       "    </tr>\n",
       "    <tr>\n",
       "      <th>2</th>\n",
       "      <td>2018-08-12T14:59:31.520000</td>\n",
       "      <td>1028657238116843520</td>\n",
       "      <td>Upto £100 #freebets &amp;gt; https://t.co/cbjeMXI9...</td>\n",
       "      <td>es</td>\n",
       "      <td>NEUTRAL</td>\n",
       "      <td>{\"Neutral\":0.930982112884521484375,\"Negative\":...</td>\n",
       "    </tr>\n",
       "    <tr>\n",
       "      <th>3</th>\n",
       "      <td>2018-08-04T13:23:30.257000</td>\n",
       "      <td>1025733971320160257</td>\n",
       "      <td>Bobby Duncan, primo de Steven Gerrard, deja la...</td>\n",
       "      <td>es</td>\n",
       "      <td>NEUTRAL</td>\n",
       "      <td>{\"Neutral\":0.906872212886810302734375,\"Negativ...</td>\n",
       "    </tr>\n",
       "    <tr>\n",
       "      <th>4</th>\n",
       "      <td>2018-07-28T11:21:06.480000</td>\n",
       "      <td>1023166450981396480</td>\n",
       "      <td>@TorreiraForeva @lepvtron @Arsenal @IntChampio...</td>\n",
       "      <td>es</td>\n",
       "      <td>NEUTRAL</td>\n",
       "      <td>{\"Neutral\":0.942405760288238525390625,\"Negativ...</td>\n",
       "    </tr>\n",
       "  </tbody>\n",
       "</table>\n",
       "</div>"
      ],
      "text/plain": [
       "           tweet_date_created             tweet_id  \\\n",
       "0  2018-08-08T13:09:15.489000  1027179935184703489   \n",
       "1  2018-08-08T18:27:37.320000  1027260056092344320   \n",
       "2  2018-08-12T14:59:31.520000  1028657238116843520   \n",
       "3  2018-08-04T13:23:30.257000  1025733971320160257   \n",
       "4  2018-07-28T11:21:06.480000  1023166450981396480   \n",
       "\n",
       "                                          tweet_text language sentiment  \\\n",
       "0  Alisson puede estar más tranquilo, no cargará ...       es  POSITIVE   \n",
       "1  @iPincheViky @ChelseaFC Es que el director eje...       es   NEUTRAL   \n",
       "2  Upto £100 #freebets &gt; https://t.co/cbjeMXI9...       es   NEUTRAL   \n",
       "3  Bobby Duncan, primo de Steven Gerrard, deja la...       es   NEUTRAL   \n",
       "4  @TorreiraForeva @lepvtron @Arsenal @IntChampio...       es   NEUTRAL   \n",
       "\n",
       "                                     sentiment_score  \n",
       "0  {\"Neutral\":0.082259356975555419921875,\"Negativ...  \n",
       "1  {\"Neutral\":0.827011644840240478515625,\"Negativ...  \n",
       "2  {\"Neutral\":0.930982112884521484375,\"Negative\":...  \n",
       "3  {\"Neutral\":0.906872212886810302734375,\"Negativ...  \n",
       "4  {\"Neutral\":0.942405760288238525390625,\"Negativ...  "
      ]
     },
     "execution_count": 8,
     "metadata": {},
     "output_type": "execute_result"
    }
   ],
   "source": [
    "\n",
    "df_sm = pd.read_csv('../data/origin/betsentiment-ES-tweets-sentiment-teams/betsentiment-ES-tweets-sentiment-teams.csv',encoding='latin1') \n",
    "df_sm.head(5)"
   ]
  },
  {
   "cell_type": "code",
   "execution_count": 11,
   "metadata": {},
   "outputs": [
    {
     "data": {
      "text/html": [
       "<div>\n",
       "<style scoped>\n",
       "    .dataframe tbody tr th:only-of-type {\n",
       "        vertical-align: middle;\n",
       "    }\n",
       "\n",
       "    .dataframe tbody tr th {\n",
       "        vertical-align: top;\n",
       "    }\n",
       "\n",
       "    .dataframe thead th {\n",
       "        text-align: right;\n",
       "    }\n",
       "</style>\n",
       "<table border=\"1\" class=\"dataframe\">\n",
       "  <thead>\n",
       "    <tr style=\"text-align: right;\">\n",
       "      <th></th>\n",
       "      <th>tweet_date_created</th>\n",
       "      <th>tweet_id</th>\n",
       "      <th>tweet_text</th>\n",
       "      <th>language</th>\n",
       "      <th>sentiment</th>\n",
       "      <th>sentiment_score</th>\n",
       "    </tr>\n",
       "  </thead>\n",
       "  <tbody>\n",
       "    <tr>\n",
       "      <th>0</th>\n",
       "      <td>2018-06-17T09:47:48</td>\n",
       "      <td>1008285070573035521</td>\n",
       "      <td>@JoseAMeadeK @miseleccionmx A pero si estás en...</td>\n",
       "      <td>es</td>\n",
       "      <td>NEUTRAL</td>\n",
       "      <td>{\"Neutral\":0.597390711307525634765625,\"Negativ...</td>\n",
       "    </tr>\n",
       "    <tr>\n",
       "      <th>1</th>\n",
       "      <td>2018-06-28T06:00:16.360000</td>\n",
       "      <td>1012214075651215360</td>\n",
       "      <td>#MarioPereyraDT\\n\"Tenemos que jugarle a Franci...</td>\n",
       "      <td>es</td>\n",
       "      <td>NEUTRAL</td>\n",
       "      <td>{\"Neutral\":0.878756999969482421875,\"Negative\":...</td>\n",
       "    </tr>\n",
       "    <tr>\n",
       "      <th>2</th>\n",
       "      <td>2018-06-07T22:07:43</td>\n",
       "      <td>1004847397074333696</td>\n",
       "      <td>@miseleccionmx No me pidas eso mi selección, s...</td>\n",
       "      <td>es</td>\n",
       "      <td>NEGATIVE</td>\n",
       "      <td>{\"Neutral\":0.3155680596828460693359375,\"Negati...</td>\n",
       "    </tr>\n",
       "    <tr>\n",
       "      <th>3</th>\n",
       "      <td>2018-05-31T21:02:10</td>\n",
       "      <td>1002294186782199810</td>\n",
       "      <td>Si llega a ser la despedida, no será la mejor....</td>\n",
       "      <td>es</td>\n",
       "      <td>POSITIVE</td>\n",
       "      <td>{\"Neutral\":0.24451164901256561279296875,\"Negat...</td>\n",
       "    </tr>\n",
       "    <tr>\n",
       "      <th>4</th>\n",
       "      <td>2018-06-26T11:02:06</td>\n",
       "      <td>1011565260183097344</td>\n",
       "      <td>No se les olvide que nuestro trabajo es constr...</td>\n",
       "      <td>es</td>\n",
       "      <td>NEUTRAL</td>\n",
       "      <td>{\"Neutral\":0.4243867397308349609375,\"Negative\"...</td>\n",
       "    </tr>\n",
       "  </tbody>\n",
       "</table>\n",
       "</div>"
      ],
      "text/plain": [
       "           tweet_date_created             tweet_id  \\\n",
       "0         2018-06-17T09:47:48  1008285070573035521   \n",
       "1  2018-06-28T06:00:16.360000  1012214075651215360   \n",
       "2         2018-06-07T22:07:43  1004847397074333696   \n",
       "3         2018-05-31T21:02:10  1002294186782199810   \n",
       "4         2018-06-26T11:02:06  1011565260183097344   \n",
       "\n",
       "                                          tweet_text language sentiment  \\\n",
       "0  @JoseAMeadeK @miseleccionmx A pero si estás en...       es   NEUTRAL   \n",
       "1  #MarioPereyraDT\\n\"Tenemos que jugarle a Franci...       es   NEUTRAL   \n",
       "2  @miseleccionmx No me pidas eso mi selección, s...       es  NEGATIVE   \n",
       "3  Si llega a ser la despedida, no será la mejor....       es  POSITIVE   \n",
       "4  No se les olvide que nuestro trabajo es constr...       es   NEUTRAL   \n",
       "\n",
       "                                     sentiment_score  \n",
       "0  {\"Neutral\":0.597390711307525634765625,\"Negativ...  \n",
       "1  {\"Neutral\":0.878756999969482421875,\"Negative\":...  \n",
       "2  {\"Neutral\":0.3155680596828460693359375,\"Negati...  \n",
       "3  {\"Neutral\":0.24451164901256561279296875,\"Negat...  \n",
       "4  {\"Neutral\":0.4243867397308349609375,\"Negative\"...  "
      ]
     },
     "execution_count": 11,
     "metadata": {},
     "output_type": "execute_result"
    }
   ],
   "source": [
    "df_lg = pd.read_csv('../data/origin/betsentiment-ES-tweets-sentiment-worldcup-split.zip/betsentiment-ES-tweets-sentiment-worldcup.csv',encoding='latin1')\n",
    "df_lg.head(5)"
   ]
  },
  {
   "cell_type": "markdown",
   "metadata": {},
   "source": [
    "## Info - datasets"
   ]
  },
  {
   "cell_type": "code",
   "execution_count": 12,
   "metadata": {},
   "outputs": [
    {
     "name": "stdout",
     "output_type": "stream",
     "text": [
      "<class 'pandas.core.frame.DataFrame'>\n",
      "RangeIndex: 132707 entries, 0 to 132706\n",
      "Data columns (total 6 columns):\n",
      " #   Column              Non-Null Count   Dtype \n",
      "---  ------              --------------   ----- \n",
      " 0   tweet_date_created  132707 non-null  object\n",
      " 1   tweet_id            132707 non-null  int64 \n",
      " 2   tweet_text          132707 non-null  object\n",
      " 3   language            132707 non-null  object\n",
      " 4   sentiment           132707 non-null  object\n",
      " 5   sentiment_score     132707 non-null  object\n",
      "dtypes: int64(1), object(5)\n",
      "memory usage: 6.1+ MB\n"
     ]
    }
   ],
   "source": [
    "df_sm.info()"
   ]
  },
  {
   "cell_type": "code",
   "execution_count": 13,
   "metadata": {},
   "outputs": [
    {
     "name": "stdout",
     "output_type": "stream",
     "text": [
      "<class 'pandas.core.frame.DataFrame'>\n",
      "RangeIndex: 1072461 entries, 0 to 1072460\n",
      "Data columns (total 6 columns):\n",
      " #   Column              Non-Null Count    Dtype \n",
      "---  ------              --------------    ----- \n",
      " 0   tweet_date_created  1072461 non-null  object\n",
      " 1   tweet_id            1072461 non-null  int64 \n",
      " 2   tweet_text          1072460 non-null  object\n",
      " 3   language            1072461 non-null  object\n",
      " 4   sentiment           1072461 non-null  object\n",
      " 5   sentiment_score     1072461 non-null  object\n",
      "dtypes: int64(1), object(5)\n",
      "memory usage: 49.1+ MB\n"
     ]
    }
   ],
   "source": [
    "df_lg.info()"
   ]
  },
  {
   "cell_type": "markdown",
   "metadata": {},
   "source": [
    "# Grupos - datasets"
   ]
  },
  {
   "cell_type": "code",
   "execution_count": 14,
   "metadata": {},
   "outputs": [
    {
     "data": {
      "text/plain": [
       "language\n",
       "es    132707\n",
       "dtype: int64"
      ]
     },
     "execution_count": 14,
     "metadata": {},
     "output_type": "execute_result"
    }
   ],
   "source": [
    "df_sm.groupby(['language']).size()"
   ]
  },
  {
   "cell_type": "code",
   "execution_count": 15,
   "metadata": {},
   "outputs": [
    {
     "data": {
      "text/plain": [
       "language\n",
       "es    1072461\n",
       "dtype: int64"
      ]
     },
     "execution_count": 15,
     "metadata": {},
     "output_type": "execute_result"
    }
   ],
   "source": [
    "df_lg.groupby(['language']).size()"
   ]
  },
  {
   "cell_type": "code",
   "execution_count": 16,
   "metadata": {},
   "outputs": [
    {
     "data": {
      "text/plain": [
       "sentiment\n",
       "MIXED          880\n",
       "NEGATIVE      9489\n",
       "NEUTRAL     111334\n",
       "POSITIVE     11004\n",
       "dtype: int64"
      ]
     },
     "execution_count": 16,
     "metadata": {},
     "output_type": "execute_result"
    }
   ],
   "source": [
    "df_sm.groupby(['sentiment']).size()"
   ]
  },
  {
   "cell_type": "code",
   "execution_count": 17,
   "metadata": {},
   "outputs": [
    {
     "data": {
      "text/plain": [
       "sentiment\n",
       "MIXED         7606\n",
       "NEGATIVE    116954\n",
       "NEUTRAL     791427\n",
       "POSITIVE    156474\n",
       "dtype: int64"
      ]
     },
     "execution_count": 17,
     "metadata": {},
     "output_type": "execute_result"
    }
   ],
   "source": [
    "df_lg.groupby(['sentiment']).size()"
   ]
  },
  {
   "cell_type": "code",
   "execution_count": 24,
   "metadata": {},
   "outputs": [
    {
     "data": {
      "text/plain": [
       "sentiment\n",
       "MIXED          880\n",
       "NEGATIVE      9489\n",
       "NEUTRAL     111334\n",
       "POSITIVE     11004\n",
       "dtype: int64"
      ]
     },
     "metadata": {},
     "output_type": "display_data"
    },
    {
     "data": {
      "text/plain": [
       "sentiment\n",
       "NEGATIVE      10\n",
       "NEUTRAL     1468\n",
       "POSITIVE      28\n",
       "dtype: int64"
      ]
     },
     "metadata": {},
     "output_type": "display_data"
    },
    {
     "data": {
      "text/plain": [
       "sentiment\n",
       "MIXED          880\n",
       "NEGATIVE      9479\n",
       "NEUTRAL     109866\n",
       "POSITIVE     10976\n",
       "dtype: int64"
      ]
     },
     "metadata": {},
     "output_type": "display_data"
    }
   ],
   "source": [
    "display(df_sm.groupby(['sentiment']).size())\n",
    "display(df_sm[df_sm['tweet_text'].duplicated()].groupby(['sentiment']).size())\n",
    "display(df_sm[~df_sm['tweet_text'].duplicated()].groupby(['sentiment']).size())"
   ]
  },
  {
   "cell_type": "code",
   "execution_count": 25,
   "metadata": {},
   "outputs": [
    {
     "data": {
      "text/plain": [
       "sentiment\n",
       "MIXED         7606\n",
       "NEGATIVE    116954\n",
       "NEUTRAL     791427\n",
       "POSITIVE    156474\n",
       "dtype: int64"
      ]
     },
     "metadata": {},
     "output_type": "display_data"
    },
    {
     "data": {
      "text/plain": [
       "sentiment\n",
       "MIXED          957\n",
       "NEGATIVE     15039\n",
       "NEUTRAL     127370\n",
       "POSITIVE     24707\n",
       "dtype: int64"
      ]
     },
     "metadata": {},
     "output_type": "display_data"
    },
    {
     "data": {
      "text/plain": [
       "sentiment\n",
       "MIXED         6649\n",
       "NEGATIVE    101915\n",
       "NEUTRAL     664057\n",
       "POSITIVE    131767\n",
       "dtype: int64"
      ]
     },
     "metadata": {},
     "output_type": "display_data"
    }
   ],
   "source": [
    "display(df_lg.groupby(['sentiment']).size())\n",
    "display(df_lg[df_lg['tweet_text'].duplicated()].groupby(['sentiment']).size())\n",
    "display(df_lg[~df_lg['tweet_text'].duplicated()].groupby(['sentiment']).size())"
   ]
  },
  {
   "cell_type": "code",
   "execution_count": 37,
   "metadata": {},
   "outputs": [
    {
     "data": {
      "text/plain": [
       "array(['@JoseAMeadeK @miseleccionmx A pero si estás en todo menos en tu campaña y todavía te preguntas porque vas en tercer lugar',\n",
       "       '#MarioPereyraDT\\n\"Tenemos que jugarle a Francia con el mismo equipo\" https://t.co/15ccsyMtOi \\n\\n#SomosArgentina #Cadena3Mundial https://t.co/aNUZMjDkaR',\n",
       "       'No se les olvide que nuestro trabajo es construir la dictadura del proletariado.\\n#VamosColombia',\n",
       "       ...,\n",
       "       'Se llegó el dia @miseleccionmx  pongan el nombre de México en alto! \\nTodos estamos con ustedes.???\\n#NadaNosDetiene',\n",
       "       'Se llegó el dia @miseleccionmx  pongan el nombre de México en alto! \\nTodos estamos con ustedes.???\\n#NadaNosDetiene',\n",
       "       'Comienza el Sueño Celeste!!!\\nEs Hoy Uruguay!!! ???\\n@AUFOficial \\n#ElEquipoQueNosUne \\n#Rusia2018 \\nVamo Arriba Uruguay!!! https://t.co/917ZWAVyEr'],\n",
       "      dtype=object)"
      ]
     },
     "execution_count": 37,
     "metadata": {},
     "output_type": "execute_result"
    }
   ],
   "source": [
    "df_lg.loc[df_lg['sentiment']=='NEUTRAL','tweet_text'].values"
   ]
  },
  {
   "cell_type": "code",
   "execution_count": null,
   "metadata": {},
   "outputs": [],
   "source": []
  }
 ],
 "metadata": {
  "kernelspec": {
   "display_name": "Python 3",
   "language": "python",
   "name": "python3"
  },
  "language_info": {
   "codemirror_mode": {
    "name": "ipython",
    "version": 3
   },
   "file_extension": ".py",
   "mimetype": "text/x-python",
   "name": "python",
   "nbconvert_exporter": "python",
   "pygments_lexer": "ipython3",
   "version": "3.7.4"
  }
 },
 "nbformat": 4,
 "nbformat_minor": 2
}
